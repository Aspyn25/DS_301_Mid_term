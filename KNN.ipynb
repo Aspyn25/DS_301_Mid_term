{
 "cells": [
  {
   "cell_type": "code",
   "execution_count": 1,
   "id": "a15385f6-fa30-4953-a883-d536c6795e02",
   "metadata": {},
   "outputs": [],
   "source": [
    "from sklearn.model_selection import train_test_split\n",
    "import pandas as pd\n",
    "import seaborn as sns\n",
    "import matplotlib.pyplot as plt\n",
    "import numpy as np"
   ]
  },
  {
   "cell_type": "code",
   "execution_count": 2,
   "id": "fb095d65-0d5a-47ee-985e-731a509d4ea1",
   "metadata": {},
   "outputs": [],
   "source": [
    "#!pip install xlrd"
   ]
  },
  {
   "cell_type": "code",
   "execution_count": null,
   "id": "ed46ff24-aba3-4ab9-bbe5-d289bd2221c7",
   "metadata": {},
   "outputs": [],
   "source": [
    "xls_file = \"default_credit_score.xls\"\n",
    "df = pd.read_excel(xls_file)\n",
    "\n",
    "# Set the second row as header\n",
    "df.columns = df.iloc[0]  # Assign the second row as header\n",
    "df = df[1:].reset_index(drop=True)  # Remove the first row and reset index\n",
    "\n",
    "# Save as CSV\n",
    "csv_file = \"default_credit_score.csv\"\n",
    "df.to_csv(csv_file, index=False)\n",
    "\n",
    "print(f\"File saved as {csv_file} with corrected headers.\")"
   ]
  },
  {
   "cell_type": "code",
   "execution_count": null,
   "id": "31bce074-2557-4be6-b537-be30a6b392f9",
   "metadata": {},
   "outputs": [],
   "source": [
    "df = pd.read_csv(\"default_credit_score.csv\")\n",
    "df.head()"
   ]
  },
  {
   "cell_type": "code",
   "execution_count": null,
   "id": "98b5ef14-688c-4d4b-9c3a-564063c2fbc4",
   "metadata": {},
   "outputs": [],
   "source": [
    "df.columns = ['ID', 'LIMIT_BAL', 'GENDER', 'EDUCATION', 'MARRIAGE', 'AGE', \n",
    "               'PAY_ST9', 'PAY_ST8', 'PAY_ST7', 'PAY_ST6', 'PAY_ST5','PAY_ST4',\n",
    "               'BILL_AMT9', 'BILL_AMT8', 'BILL_AMT7', 'BILL_AMT6', 'BILL_AMT5', 'BILL_AMT4', \n",
    "               'PAY_AMT9', 'PAY_AMT8', 'PAY_AMT7', 'PAY_AMT6', 'PAY_AMT5', 'PAY_AMT4',\n",
    "       'DEFAULT_PAYMENT']"
   ]
  },
  {
   "cell_type": "code",
   "execution_count": null,
   "id": "63222026-553e-4bec-a991-8de573543940",
   "metadata": {},
   "outputs": [],
   "source": [
    "df.head()"
   ]
  },
  {
   "cell_type": "code",
   "execution_count": null,
   "id": "e109e569-8c97-4a9e-8ce5-67a6a0172b18",
   "metadata": {},
   "outputs": [],
   "source": [
    "df.columns"
   ]
  },
  {
   "cell_type": "markdown",
   "id": "4c6598a7-c0bd-4bc6-a860-535fa7e68c6c",
   "metadata": {},
   "source": [
    "### Exploration"
   ]
  },
  {
   "cell_type": "code",
   "execution_count": null,
   "id": "011dc1dc-cdb3-4211-b6f0-87639b695cc5",
   "metadata": {},
   "outputs": [],
   "source": [
    "df.describe()"
   ]
  },
  {
   "cell_type": "code",
   "execution_count": null,
   "id": "1ec927df-eed1-44ac-af62-159e8bc13020",
   "metadata": {},
   "outputs": [],
   "source": [
    "# dropping ID since it will mess the training, due to the numerical values\n",
    "df.drop(columns=['ID'], inplace=True)"
   ]
  },
  {
   "cell_type": "markdown",
   "id": "4911740e-d803-426c-84cb-170672401a8b",
   "metadata": {},
   "source": [
    "### Outliers"
   ]
  },
  {
   "cell_type": "code",
   "execution_count": null,
   "id": "b35b128b-4df7-4ff2-babc-934c3de411f4",
   "metadata": {},
   "outputs": [],
   "source": [
    "# Select only numerical columns\n",
    "# numerical_cols = df.columns[df.columns != \"DEFAULT_PAYMENT\"]\n",
    "\n",
    "# Set plot size\n",
    "plt.figure(figsize=(15, 10))\n",
    "\n",
    "# Loop through numerical columns and create boxplots\n",
    "for i, col in enumerate(df.columns):\n",
    "    plt.subplot(5, 5, i+1)\n",
    "    sns.boxplot(y=df[col], color=\"salmon\")\n",
    "    plt.title(f\"Boxplot of {col}\")\n",
    "\n",
    "plt.tight_layout()\n",
    "plt.show()"
   ]
  },
  {
   "cell_type": "code",
   "execution_count": null,
   "id": "95fad513-4c29-4852-9564-539c454611f0",
   "metadata": {},
   "outputs": [],
   "source": [
    "# Define the cap limit (95th percentile)\n",
    "def cap_outliers(df, cols, threshold=0.95):\n",
    "    for col in cols:\n",
    "        upper_limit = np.percentile(df[col], threshold * 100)\n",
    "        df[col] = np.where(df[col] > upper_limit, upper_limit, df[col])\n",
    "    return df\n",
    "\n",
    "# Apply capping to the most affected features\n",
    "cols_to_cap = ['BILL_AMT9', 'BILL_AMT8', 'BILL_AMT7','BILL_AMT6','BILL_AMT5','BILL_AMT4','PAY_AMT9',\n",
    "               'PAY_AMT8', 'PAY_AMT7', 'PAY_AMT6', 'PAY_AMT5','PAY_AMT4']\n",
    "df = cap_outliers(df, cols_to_cap)"
   ]
  },
  {
   "cell_type": "code",
   "execution_count": null,
   "id": "38cfc637-8331-4748-bd91-59ee9e074f1b",
   "metadata": {},
   "outputs": [],
   "source": [
    "# Select only numerical columns\n",
    "numerical_cols = df.columns[df.columns != \"DEFAULT_PAYMENT\"]\n",
    "\n",
    "# Set plot size\n",
    "plt.figure(figsize=(15, 10))\n",
    "\n",
    "# Loop through numerical columns and create boxplots\n",
    "for i, col in enumerate(numerical_cols):\n",
    "    plt.subplot(5, 5, i+1)\n",
    "    sns.boxplot(y=df[col], color='teal')\n",
    "    plt.title(f\"Boxplot of {col}\")\n",
    "\n",
    "plt.tight_layout()\n",
    "plt.show()"
   ]
  },
  {
   "cell_type": "markdown",
   "id": "01040425-08ca-41fc-9587-a793a97881ed",
   "metadata": {},
   "source": [
    "### Scaling for KNN "
   ]
  },
  {
   "cell_type": "code",
   "execution_count": null,
   "id": "2ff33b60-25cb-4319-97c0-fd14dee2180d",
   "metadata": {},
   "outputs": [],
   "source": [
    "from sklearn.preprocessing import StandardScaler"
   ]
  },
  {
   "cell_type": "code",
   "execution_count": null,
   "id": "c917adc7-6672-4f42-be70-f13cea9c73ae",
   "metadata": {},
   "outputs": [],
   "source": [
    "# Define features and target\n",
    "X = df.drop(columns=['DEFAULT_PAYMENT'])  # Drop the target column\n",
    "y = df['DEFAULT_PAYMENT']\n",
    "\n",
    "# Standardization\n",
    "scaler = StandardScaler()\n",
    "X_scaled = scaler.fit_transform(X)\n",
    "\n",
    "# Convert back to DataFrame\n",
    "X_scaled = pd.DataFrame(X_scaled, columns=X.columns)\n",
    "\n",
    "# Check the transformed data\n",
    "X_scaled.describe()"
   ]
  },
  {
   "cell_type": "code",
   "execution_count": null,
   "id": "ef4de4c8-f054-4d36-887b-dfa499f8f5a9",
   "metadata": {},
   "outputs": [],
   "source": [
    "# Plot histograms for all numerical features\n",
    "df.hist(figsize=(15, 12), bins=50, edgecolor='black')\n",
    "plt.suptitle('Histograms of Features', fontsize=16)\n",
    "plt.show()"
   ]
  },
  {
   "cell_type": "code",
   "execution_count": null,
   "id": "97633e3f-b537-4aa1-baf7-529721074a13",
   "metadata": {},
   "outputs": [],
   "source": [
    "# Plot histograms with Seaborn\n",
    "df_melted = df.melt(var_name=\"Feature\", value_name=\"Value\")\n",
    "\n",
    "plt.figure(figsize=(15, 8))\n",
    "sns.histplot(data=df_melted, x=\"Value\", hue=\"Feature\", bins=50, element=\"step\", common_norm=False)\n",
    "plt.title('Feature Distributions')\n",
    "plt.show()"
   ]
  },
  {
   "cell_type": "markdown",
   "id": "dfb0616c-55ec-4b3d-adf8-6980855b537f",
   "metadata": {},
   "source": [
    "### Splitting 80/20"
   ]
  },
  {
   "cell_type": "code",
   "execution_count": null,
   "id": "e657c1c8-1b0b-4d44-b0a1-f92b99627ec6",
   "metadata": {},
   "outputs": [],
   "source": [
    "from sklearn.metrics import confusion_matrix, classification_report, accuracy_score\n",
    "\n",
    "# setting train and test data (80% - 20%)\n",
    "X_train, X_test, y_train, y_test = train_test_split(X_scaled, y, test_size=0.2, random_state=42, stratify=y)"
   ]
  },
  {
   "cell_type": "markdown",
   "id": "a89f438a-7a34-4d0e-b32f-1c8857dc2d00",
   "metadata": {},
   "source": [
    "### Trainning Model - KNN"
   ]
  },
  {
   "cell_type": "code",
   "execution_count": null,
   "id": "33910682-0b7a-4088-9d33-006c88e054e2",
   "metadata": {},
   "outputs": [],
   "source": [
    "from sklearn.neighbors import KNeighborsClassifier\n",
    "\n",
    "# testing different values of k to perform KNN\n",
    "error_rates = []\n",
    "k_values = range(1, 31)\n",
    "for k in k_values:\n",
    "    knn = KNeighborsClassifier(n_neighbors=k)\n",
    "    knn.fit(X_train, y_train)  # Train the model\n",
    "    y_pred = knn.predict(X_test)  # Predict on test set\n",
    "    error = 1 - accuracy_score(y_test, y_pred)  # Calculate error rate\n",
    "    error_rates.append(error)\n",
    "\n",
    "# finding lowest k value\n",
    "k_min_value = min(error_rates)\n",
    "knn_n = error_rates.index(k_min_value)\n",
    "knn_n # index + 1 is the optimal KNN value which is the lowest "
   ]
  },
  {
   "cell_type": "code",
   "execution_count": null,
   "id": "b9a262dd-1c4e-418f-86f6-898bce44233f",
   "metadata": {},
   "outputs": [],
   "source": [
    "# plotting the elbow curve to find the optimal value of k\n",
    "plt.figure(figsize=(12, 6))\n",
    "plt.plot(k_values, error_rates, marker='o', linestyle='dashed', color='grey', markersize=8)\n",
    "\n",
    "plt.scatter(k_values[knn_n], error_rates[knn_n], \n",
    "            color='red', s=200)\n",
    "\n",
    "plt.xlabel('Number of Neighbors (k)')\n",
    "plt.ylabel('Error Rate')\n",
    "plt.title('Elbow Method to Find Optimal k')\n",
    "plt.xticks(np.arange(1, 31, step=2))\n",
    "plt.grid(True)\n",
    "plt.show()"
   ]
  },
  {
   "cell_type": "code",
   "execution_count": null,
   "id": "14a89a9d-46a0-49d2-8ad1-eef0b6735767",
   "metadata": {},
   "outputs": [],
   "source": [
    "# calculating test accuracy when k=14\n",
    "knn_14 = KNeighborsClassifier(n_neighbors=14)\n",
    "knn_14.fit(X_train, y_train)\n",
    "y_pred_14 = knn_14.predict(X_test)"
   ]
  },
  {
   "cell_type": "code",
   "execution_count": null,
   "id": "6330d9fa-1fbd-4033-b592-f3bd6aa411eb",
   "metadata": {},
   "outputs": [],
   "source": [
    "# results\n",
    "conf_matrix = confusion_matrix(y_test, y_pred_14)\n",
    "class_report = classification_report(y_test, y_pred_14)\n",
    "knn_accuracy = accuracy_score(y_test, y_pred_14)\n",
    "\n",
    "# printing results \n",
    "print(\"Accuracy Score for KNN with 14 neighbors:\", round(knn_accuracy, 2))\n",
    "\n",
    "print(\"\\nConfusion Matrix:\\n\", conf_matrix)\n",
    "print(\"\\nClassification Report:\\n\", class_report)\n",
    "\n",
    "print(f\"\\nObservations:\")\n",
    "print(f\"True Negatives(TN) = {conf_matrix[0,0]} values (default payment = 0 / no) were predicted correctly\")\n",
    "print(f\"False Positives (FP) = {conf_matrix[0,1]} values (default payment = 0 / no) were predicted incorrectly\")\n",
    "print(f\"False Negatives (FN) = {conf_matrix[1,0]} values (default payment = 1 / yes) were predicted incorrectly\")\n",
    "print(f\"True Positives (TP) = {conf_matrix[1,1]} values (default payment = 1 / yes) were predicted correctly\")"
   ]
  },
  {
   "cell_type": "code",
   "execution_count": null,
   "id": "119e4073-f623-4353-9cb8-5093abc21ff9",
   "metadata": {},
   "outputs": [],
   "source": [
    "train_accuracy = knn_14.score(X_train, y_train)  # Accuracy on training data \n",
    "test_accuracy = knn_14.score(X_test, y_test)    # Accuracy on test data \n",
    "\n",
    "print(f\"Training Accuracy based on the KNN Model: {train_accuracy:.4f}\")\n",
    "print(f\"Test Accuracy based on the KNN Model: {test_accuracy:.4f}\")"
   ]
  },
  {
   "cell_type": "markdown",
   "id": "a7b9a1bc-1f54-40e0-8f8c-4530b6a632d1",
   "metadata": {},
   "source": [
    "### Improving the Model \n",
    "\n",
    "#### + Using feature importance from *Random Forest*"
   ]
  },
  {
   "cell_type": "code",
   "execution_count": null,
   "id": "376052ce-0c7b-4186-a030-3e01ee2194e4",
   "metadata": {},
   "outputs": [],
   "source": [
    "X_scaled.shape"
   ]
  },
  {
   "cell_type": "code",
   "execution_count": null,
   "id": "13dc063a-e91f-466f-94aa-df448501b873",
   "metadata": {},
   "outputs": [],
   "source": [
    "from sklearn.ensemble import RandomForestClassifier\n",
    "\n",
    "# training the model\n",
    "rf = RandomForestClassifier(n_estimators=100, random_state=42)\n",
    "rf.fit(X_train, y_train)\n",
    "\n",
    "# feature importances\n",
    "importances = rf.feature_importances_\n",
    "feature_names = X_train.columns\n",
    "\n",
    "# sort features by importance\n",
    "sorted_indices = np.argsort(importances)[::-1]\n",
    "top_k = 18  # Number of features to display\n",
    "top_features = [feature_names[i] for i in sorted_indices[:top_k]]\n",
    "top_importances = [importances[i] for i in sorted_indices[:top_k]]\n",
    "\n",
    "# get the percentage\n",
    "top_importances = np.array(top_importances) * 100"
   ]
  },
  {
   "cell_type": "code",
   "execution_count": null,
   "id": "4ad8156e-62d3-4b71-b93e-ea64793ce83e",
   "metadata": {},
   "outputs": [],
   "source": [
    "top_features"
   ]
  },
  {
   "cell_type": "code",
   "execution_count": null,
   "id": "bdea9e87-055c-4688-8346-d3a7f9b71a86",
   "metadata": {},
   "outputs": [],
   "source": [
    "# Calculate total importance\n",
    "total_importance = np.sum(importances)\n",
    "\n",
    "# Sum of the top k feature importances\n",
    "top_k_importance_sum = np.sum(top_importances / 100)  # Convert back to original scale\n",
    "\n",
    "# Calculate percentage covered by top 10 features\n",
    "coverage_percentage = (top_k_importance_sum / total_importance) * 100\n",
    "\n",
    "print(f\"Top {top_k} features cover: {coverage_percentage:.2f}% of total importance\")"
   ]
  },
  {
   "cell_type": "code",
   "execution_count": null,
   "id": "b29e0b7c-3d06-4209-8143-44af7ba79fdd",
   "metadata": {},
   "outputs": [],
   "source": [
    "# plotting top 1' features\n",
    "plt.figure(figsize=(10, 6))\n",
    "sns.barplot(x=top_importances, y=top_features, palette=\"viridis\", legend=True)\n",
    "plt.xlabel(\"Feature Importance (%)\")\n",
    "plt.ylabel(\"Features\")\n",
    "plt.title(f'Top {top_k} Important Features')\n",
    "plt.grid(axis=\"x\", linestyle=\"--\", alpha=0.7)\n",
    "plt.show()"
   ]
  },
  {
   "cell_type": "markdown",
   "id": "5a04a7d9-2900-4d7f-81ac-44ba4ab8bb5c",
   "metadata": {},
   "source": [
    "### Training KNN Model after feature importance"
   ]
  },
  {
   "cell_type": "code",
   "execution_count": null,
   "id": "b91f4fd9-074e-4621-9b4b-a1fb1ded647e",
   "metadata": {},
   "outputs": [],
   "source": [
    "X_fi = X_scaled[top_features]\n",
    "X_fi"
   ]
  },
  {
   "cell_type": "code",
   "execution_count": null,
   "id": "447e68bd-4e5b-4290-96c1-a3a86842686e",
   "metadata": {},
   "outputs": [],
   "source": [
    "# setting train and test data (80% - 20%)\n",
    "X_train, X_test, y_train, y_test = train_test_split(X_fi, y, test_size=0.2, random_state=42, stratify=y)\n",
    "\n",
    "# testing different values of k to perform KNN\n",
    "error_rates = []\n",
    "k_values = range(1, 31)\n",
    "for k in k_values:\n",
    "    knn = KNeighborsClassifier(n_neighbors=k)\n",
    "    knn.fit(X_train, y_train)  # Train the model\n",
    "    y_pred = knn.predict(X_test)  # Predict on test set\n",
    "    error = 1 - accuracy_score(y_test, y_pred)  # Calculate error rate\n",
    "    error_rates.append(error)\n",
    "\n",
    "# finding the lowest value\n",
    "k_min_value = min(error_rates)\n",
    "knn_n = error_rates.index(k_min_value)\n",
    "knn_n # index + 1 is the optimal KNN value which is the lowest "
   ]
  },
  {
   "cell_type": "code",
   "execution_count": null,
   "id": "b3a29c70-4fd1-48db-afa4-02965c888586",
   "metadata": {},
   "outputs": [],
   "source": [
    "# plotting the elbow curve to find the optimal value of k\n",
    "plt.figure(figsize=(12, 6))\n",
    "plt.plot(k_values, error_rates, marker='o', linestyle='dashed', color='grey', markersize=8)\n",
    "\n",
    "plt.scatter(k_values[knn_n], error_rates[knn_n], \n",
    "            color='red', s=200)\n",
    "\n",
    "plt.xlabel('Number of Neighbors (k)')\n",
    "plt.ylabel('Error Rate')\n",
    "plt.title('Elbow Method to Find Optimal k')\n",
    "plt.xticks(np.arange(1, 31, step=2))\n",
    "plt.grid(True)\n",
    "plt.show()"
   ]
  },
  {
   "cell_type": "code",
   "execution_count": null,
   "id": "9f5abf0b-7642-4ba6-bcff-7e6c52f851e1",
   "metadata": {},
   "outputs": [],
   "source": [
    "# calculating test accuracy when k=17\n",
    "knn_17 = KNeighborsClassifier(n_neighbors=17)\n",
    "knn_17.fit(X_train, y_train)\n",
    "y_pred_17 = knn_17.predict(X_test)\n",
    "\n",
    "# results\n",
    "conf_matrix = confusion_matrix(y_test, y_pred_17)\n",
    "class_report = classification_report(y_test, y_pred_17)\n",
    "knn_accuracy = accuracy_score(y_test, y_pred_17)\n",
    "\n",
    "# printing results \n",
    "print(\"Accuracy Score for KNN with 17 neighbors:\", round(knn_accuracy, 2))\n",
    "\n",
    "print(\"\\nConfusion Matrix:\\n\", conf_matrix)\n",
    "print(\"\\nClassification Report:\\n\", class_report)"
   ]
  },
  {
   "cell_type": "code",
   "execution_count": null,
   "id": "2277d584-0c4a-4d7d-aab0-88ed658177d7",
   "metadata": {},
   "outputs": [],
   "source": [
    "train_accuracy = knn_17.score(X_train, y_train)  # Accuracy on training data \n",
    "test_accuracy = knn_17.score(X_test, y_test)    # Accuracy on test data \n",
    "\n",
    "print(f\"Training Accuracy based on the KNN Model: {train_accuracy:.4f}\")\n",
    "print(f\"Test Accuracy based on the KNN Model: {test_accuracy:.4f}\")"
   ]
  },
  {
   "cell_type": "markdown",
   "id": "946d3f9f-5685-4694-9635-f4025b13157d",
   "metadata": {},
   "source": [
    "### Improving the Model \n",
    "\n",
    "#### + Perfoming SMOTE "
   ]
  },
  {
   "cell_type": "code",
   "execution_count": null,
   "id": "92006860-da50-49de-b238-9cceec18f1e2",
   "metadata": {},
   "outputs": [],
   "source": [
    "from imblearn.over_sampling import SMOTE\n",
    "\n",
    "y.value_counts()"
   ]
  },
  {
   "cell_type": "code",
   "execution_count": null,
   "id": "0839f2d9-5ab0-4216-aa7e-4111f15a97dc",
   "metadata": {},
   "outputs": [],
   "source": [
    "# applying SMOTE to balance the amount of unique values in Y\n",
    "smote = SMOTE(sampling_strategy='minority')\n",
    "X_smote, y = smote.fit_resample(X_scaled, y)"
   ]
  },
  {
   "cell_type": "code",
   "execution_count": null,
   "id": "bdc72495-212e-46bf-aee3-8cd6fc8e0158",
   "metadata": {},
   "outputs": [],
   "source": [
    "# checking smote result\n",
    "y.value_counts()"
   ]
  },
  {
   "cell_type": "code",
   "execution_count": null,
   "id": "242f95d9-08b4-443c-9aa1-c6d058604a08",
   "metadata": {},
   "outputs": [],
   "source": [
    "# checking smote result\n",
    "X_smote.shape"
   ]
  },
  {
   "cell_type": "code",
   "execution_count": null,
   "id": "f9d93c7a-3440-4d5b-a33d-03570b02bf2e",
   "metadata": {},
   "outputs": [],
   "source": [
    "# checking smote result\n",
    "y.shape"
   ]
  },
  {
   "cell_type": "markdown",
   "id": "311ee7da-e758-4b3f-aa70-e433bfc43d73",
   "metadata": {},
   "source": [
    "### Training the model KNN after Smote"
   ]
  },
  {
   "cell_type": "code",
   "execution_count": null,
   "id": "12c8e456-d67d-4d55-9fe8-acaa2937754b",
   "metadata": {},
   "outputs": [],
   "source": [
    "X_smote"
   ]
  },
  {
   "cell_type": "code",
   "execution_count": null,
   "id": "8eba8cc0-db9a-420e-9166-b9984173ff00",
   "metadata": {},
   "outputs": [],
   "source": [
    "# Standardization\n",
    "X_smote_scaled = scaler.fit_transform(X_smote)\n",
    "\n",
    "# Convert back to DataFrame\n",
    "X_smote_scaled = pd.DataFrame(X_smote_scaled, columns=X_smote.columns)"
   ]
  },
  {
   "cell_type": "code",
   "execution_count": null,
   "id": "4a7adc2d-6494-4d7c-b45d-2590cbc73575",
   "metadata": {},
   "outputs": [],
   "source": [
    "# setting train and test data (80% - 20%)\n",
    "X_train, X_test, y_train, y_test = train_test_split(X_smote_scaled, y, test_size=0.2, random_state=42, stratify=y)\n",
    "\n",
    "# testing different values of k to perform KNN\n",
    "error_rates = []\n",
    "k_values = range(1, 30)\n",
    "for k in k_values:\n",
    "    knn = KNeighborsClassifier(n_neighbors=k)\n",
    "    knn.fit(X_train, y_train)  # Train the model\n",
    "    y_pred = knn.predict(X_test)  # Predict on test set\n",
    "    error = 1 - accuracy_score(y_test, y_pred)  # Calculate error rate\n",
    "    error_rates.append(error)\n",
    "\n",
    "# finding the lowest value\n",
    "k_min_value = min(error_rates)\n",
    "knn_n = error_rates.index(k_min_value)\n",
    "knn_n # index + 1 is the optimal KNN value which is the lowest "
   ]
  },
  {
   "cell_type": "code",
   "execution_count": null,
   "id": "21f3c69f-3186-412c-9ac3-b774c5b749b5",
   "metadata": {},
   "outputs": [],
   "source": [
    "# plotting the elbow curve to find the optimal value of k\n",
    "plt.figure(figsize=(12, 6))\n",
    "plt.plot(k_values, error_rates, marker='o', linestyle='dashed', color='red', markersize=8)\n",
    "\n",
    "plt.scatter(k_values[knn_n], error_rates[knn_n], \n",
    "            color='red', s=200)\n",
    "\n",
    "plt.xlabel('Number of Neighbors (k)')\n",
    "plt.ylabel('Error Rate')\n",
    "plt.title('Elbow Method to Find Optimal k')\n",
    "plt.xticks(np.arange(1, 31, step=2))\n",
    "plt.grid(True)\n",
    "plt.show()"
   ]
  },
  {
   "cell_type": "code",
   "execution_count": null,
   "id": "e555ceb3-b1d8-46aa-93eb-987b4e4a5ed2",
   "metadata": {},
   "outputs": [],
   "source": [
    "# calculating test accuracy when k=17\n",
    "knn_1 = KNeighborsClassifier(n_neighbors=17)\n",
    "knn_1.fit(X_train, y_train)\n",
    "y_pred_1 = knn_1.predict(X_test)\n",
    "\n",
    "# results\n",
    "conf_matrix = confusion_matrix(y_test, y_pred_1)\n",
    "class_report = classification_report(y_test, y_pred_1)\n",
    "knn_accuracy = accuracy_score(y_test, y_pred_1)\n",
    "\n",
    "# printing results \n",
    "print(\"Accuracy Score for KNN with 1 neighbors:\", round(knn_accuracy, 2))\n",
    "\n",
    "print(\"\\nConfusion Matrix:\\n\", conf_matrix)\n",
    "print(\"\\nClassification Report:\\n\", class_report)"
   ]
  }
 ],
 "metadata": {
  "kernelspec": {
   "display_name": "Python 3 (ipykernel)",
   "language": "python",
   "name": "python3"
  },
  "language_info": {
   "codemirror_mode": {
    "name": "ipython",
    "version": 3
   },
   "file_extension": ".py",
   "mimetype": "text/x-python",
   "name": "python",
   "nbconvert_exporter": "python",
   "pygments_lexer": "ipython3",
   "version": "3.11.7"
  }
 },
 "nbformat": 4,
 "nbformat_minor": 5
}
